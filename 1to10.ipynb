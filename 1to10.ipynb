{
  "nbformat": 4,
  "nbformat_minor": 0,
  "metadata": {
    "colab": {
      "name": "Copy of 1to10.ipynb",
      "provenance": [],
      "collapsed_sections": [],
      "authorship_tag": "ABX9TyPuH9T4jUL6zPW59CA5EIRh",
      "include_colab_link": true
    },
    "kernelspec": {
      "name": "python3",
      "display_name": "Python 3"
    },
    "language_info": {
      "name": "python"
    }
  },
  "cells": [
    {
      "cell_type": "markdown",
      "metadata": {
        "id": "view-in-github",
        "colab_type": "text"
      },
      "source": [
        "<a href=\"https://colab.research.google.com/github/imggmico/python-exercises/blob/main/1to10.ipynb\" target=\"_parent\"><img src=\"https://colab.research.google.com/assets/colab-badge.svg\" alt=\"Open In Colab\"/></a>"
      ]
    },
    {
      "cell_type": "code",
      "metadata": {
        "colab": {
          "base_uri": "https://localhost:8080/"
        },
        "id": "rZ2yzOW5ioCj",
        "outputId": "b060b3db-8170-4b9f-b8bc-447f949af8b6"
      },
      "source": [
        "def calculate1():\n",
        "  ans=0\n",
        "  for i in range(0,100):\n",
        "    if i%5==0 or i%7==0:\n",
        "      ans=ans+i\n",
        "  return ans\n",
        "\n",
        "def calculate2():\n",
        "    return sum([i for i in range(100) if i % 5 == 0 or i % 7 == 0])\n",
        " \n",
        " \n",
        "print(calculate1())\n",
        "print(calculate2())"
      ],
      "execution_count": null,
      "outputs": [
        {
          "output_type": "stream",
          "name": "stdout",
          "text": [
            "1580\n",
            "1580\n"
          ]
        }
      ]
    },
    {
      "cell_type": "code",
      "metadata": {
        "colab": {
          "base_uri": "https://localhost:8080/"
        },
        "id": "R5-1UPfKjNAO",
        "outputId": "1e706feb-751a-4ca7-c13b-b5144123416b"
      },
      "source": [
        "def calculate():\n",
        "  a=0\n",
        "  b=1\n",
        "  c=a+b\n",
        "  sum=0\n",
        "  while c<1000000:\n",
        "    if c%2==0:\n",
        "      sum=sum+c\n",
        "    a=b\n",
        "    b=c\n",
        "    c=a+b\n",
        "  return sum\n",
        "print(calculate())"
      ],
      "execution_count": null,
      "outputs": [
        {
          "output_type": "stream",
          "name": "stdout",
          "text": [
            "1089154\n"
          ]
        }
      ]
    },
    {
      "cell_type": "code",
      "metadata": {
        "id": "cvkIjzt0mqqJ"
      },
      "source": [
        "def calculate(n):\n",
        "  l=[]\n",
        "  k=2\n",
        "  while n>1:\n",
        "    while n%k==0:\n",
        "      n=n/k\n",
        "      l.append(k)\n",
        "    k+=1\n",
        "  return l\n",
        "\n"
      ],
      "execution_count": null,
      "outputs": []
    },
    {
      "cell_type": "code",
      "metadata": {
        "id": "qtwdAq68pR68"
      },
      "source": [
        "def prim_factors(n):\n",
        "  l=[]\n",
        "  k=2\n",
        "  while n>1:\n",
        "    while n%k==0:\n",
        "      n=n/k\n",
        "      l.append(k)\n",
        "    k+=1\n",
        "  return l\n",
        "\n",
        "def greatest_prim_factor(n):\n",
        "  return prim_factors(n).pop()"
      ],
      "execution_count": null,
      "outputs": []
    },
    {
      "cell_type": "code",
      "metadata": {
        "colab": {
          "base_uri": "https://localhost:8080/"
        },
        "id": "xm31mdoSqwji",
        "outputId": "52cf0c72-2972-4d08-8860-eef47910c4cd"
      },
      "source": [
        "def calculate():\n",
        "    result = max([i * j\n",
        "                  for i in range(10, 100)\n",
        "                  for j in range(10, 100)\n",
        "                  if str(i * j) == str(i * j)[::-1]])\n",
        "    return result\n",
        " \n",
        " \n",
        "print(calculate())"
      ],
      "execution_count": null,
      "outputs": [
        {
          "output_type": "stream",
          "name": "stdout",
          "text": [
            "9009\n"
          ]
        }
      ]
    },
    {
      "cell_type": "code",
      "metadata": {
        "id": "QzJn3NxSzrfT"
      },
      "source": [
        "##not me\n",
        "def greatest_common_divisor(a, b):\n",
        "    while b:\n",
        "        a, b = b, a % b\n",
        "    return a\n"
      ],
      "execution_count": null,
      "outputs": []
    },
    {
      "cell_type": "code",
      "metadata": {
        "id": "WN4E6GULztA7"
      },
      "source": [
        "##my solution\n",
        "\n",
        "def greatest_common_divisor(a,b):\n",
        "    \n",
        "    if b%a==0 or a%b==0:\n",
        "        return min(a,b)\n",
        "    if a>b:\n",
        "        return greatest_common_divisor(a%b,b)\n",
        "    return greatest_common_divisor(a,b%a)\n",
        "\n",
        "\n"
      ],
      "execution_count": null,
      "outputs": []
    },
    {
      "cell_type": "code",
      "metadata": {
        "colab": {
          "base_uri": "https://localhost:8080/"
        },
        "id": "14a9PMql3MOy",
        "outputId": "e2ea6dce-91a1-415d-cc41-a4050dbc92b7"
      },
      "source": [
        "\n",
        "def is_prime(n):\n",
        "    if n<=1:\n",
        "        return False\n",
        "    i=2\n",
        "    while i*i<=n:\n",
        "        if n%i==0:\n",
        "            return False\n",
        "        i+=1\n",
        "    return True\n",
        "\n",
        "\n",
        "def calculate():\n",
        "    l=[]\n",
        "    i=2\n",
        "    while len(l)<100:\n",
        "        if is_prime(i):\n",
        "            l.append(i)\n",
        "        i+=1\n",
        "    return l.pop()\n",
        "print(calculate())\n"
      ],
      "execution_count": null,
      "outputs": [
        {
          "output_type": "stream",
          "name": "stdout",
          "text": [
            "541\n"
          ]
        }
      ]
    },
    {
      "cell_type": "code",
      "metadata": {
        "id": "fHd0Cuiy6zYI"
      },
      "source": [
        "##not me\n",
        "def is_palindrome(number):\n",
        "    if str(number) != str(number)[::-1]:\n",
        "        return False\n",
        "    bin_number = bin(number)[2:]\n",
        "    return bin_number == bin_number[::-1]\n",
        "\n",
        "\n",
        "\n",
        "\n",
        "##my solution\n",
        "def is_palindrome(n):\n",
        "    \n",
        "    if not str(n)==str(n)[::-1]:\n",
        "        return False\n",
        "    \n",
        "    s=\"\"\n",
        "    while n:\n",
        "        s+=(str(n%2))\n",
        "        n=n//2\n",
        "    return s==s[::-1]\n"
      ],
      "execution_count": 1,
      "outputs": []
    },
    {
      "cell_type": "code",
      "metadata": {
        "id": "ajsNCn6298gG"
      },
      "source": [
        "def calculate():\n",
        "    return list(filter(is_palindrome, [i for i in range(100, 1000)]))\n",
        " \n",
        " def calculate():\n",
        "    return [i for i in range(100, 1000) if is_palindrome(i)]"
      ],
      "execution_count": null,
      "outputs": []
    }
  ]
}